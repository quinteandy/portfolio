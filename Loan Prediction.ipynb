{
 "cells": [
  {
   "cell_type": "markdown",
   "metadata": {},
   "source": [
    "# Loan Prediction"
   ]
  },
  {
   "cell_type": "markdown",
   "metadata": {},
   "source": [
    "# Introduction\n",
    "\n",
    "Dream Housing Finance company deals in all kinds of home loans. They have presence across all urban, semi urban and rural areas. Customer first applies for home loan and after that company validates the customer eligibility for loan.\n",
    "\n",
    "Company wants to automate the loan eligibility process (real time) based on customer detail provided while filling online application form. These details are Gender, Marital Status, Education, Number of Dependents, Income, Loan Amount, Credit History and others. To automate this process, they have provided a dataset to identify the customers segments that are eligible for loan amount so that they can specifically target these customers."
   ]
  },
  {
   "cell_type": "code",
   "execution_count": 1,
   "metadata": {},
   "outputs": [
    {
     "name": "stdout",
     "output_type": "stream",
     "text": [
      "(614, 13)\n"
     ]
    },
    {
     "data": {
      "text/html": [
       "<div>\n",
       "<style scoped>\n",
       "    .dataframe tbody tr th:only-of-type {\n",
       "        vertical-align: middle;\n",
       "    }\n",
       "\n",
       "    .dataframe tbody tr th {\n",
       "        vertical-align: top;\n",
       "    }\n",
       "\n",
       "    .dataframe thead th {\n",
       "        text-align: right;\n",
       "    }\n",
       "</style>\n",
       "<table border=\"1\" class=\"dataframe\">\n",
       "  <thead>\n",
       "    <tr style=\"text-align: right;\">\n",
       "      <th></th>\n",
       "      <th>Loan_ID</th>\n",
       "      <th>Gender</th>\n",
       "      <th>Married</th>\n",
       "      <th>Dependents</th>\n",
       "      <th>Education</th>\n",
       "      <th>Self_Employed</th>\n",
       "      <th>ApplicantIncome</th>\n",
       "      <th>CoapplicantIncome</th>\n",
       "      <th>LoanAmount</th>\n",
       "      <th>Loan_Amount_Term</th>\n",
       "      <th>Credit_History</th>\n",
       "      <th>Property_Area</th>\n",
       "      <th>Loan_Status</th>\n",
       "    </tr>\n",
       "  </thead>\n",
       "  <tbody>\n",
       "    <tr>\n",
       "      <th>0</th>\n",
       "      <td>LP001002</td>\n",
       "      <td>Male</td>\n",
       "      <td>No</td>\n",
       "      <td>0</td>\n",
       "      <td>Graduate</td>\n",
       "      <td>No</td>\n",
       "      <td>5849</td>\n",
       "      <td>0.0</td>\n",
       "      <td>NaN</td>\n",
       "      <td>360.0</td>\n",
       "      <td>1.0</td>\n",
       "      <td>Urban</td>\n",
       "      <td>Y</td>\n",
       "    </tr>\n",
       "    <tr>\n",
       "      <th>1</th>\n",
       "      <td>LP001003</td>\n",
       "      <td>Male</td>\n",
       "      <td>Yes</td>\n",
       "      <td>1</td>\n",
       "      <td>Graduate</td>\n",
       "      <td>No</td>\n",
       "      <td>4583</td>\n",
       "      <td>1508.0</td>\n",
       "      <td>128.0</td>\n",
       "      <td>360.0</td>\n",
       "      <td>1.0</td>\n",
       "      <td>Rural</td>\n",
       "      <td>N</td>\n",
       "    </tr>\n",
       "    <tr>\n",
       "      <th>2</th>\n",
       "      <td>LP001005</td>\n",
       "      <td>Male</td>\n",
       "      <td>Yes</td>\n",
       "      <td>0</td>\n",
       "      <td>Graduate</td>\n",
       "      <td>Yes</td>\n",
       "      <td>3000</td>\n",
       "      <td>0.0</td>\n",
       "      <td>66.0</td>\n",
       "      <td>360.0</td>\n",
       "      <td>1.0</td>\n",
       "      <td>Urban</td>\n",
       "      <td>Y</td>\n",
       "    </tr>\n",
       "    <tr>\n",
       "      <th>3</th>\n",
       "      <td>LP001006</td>\n",
       "      <td>Male</td>\n",
       "      <td>Yes</td>\n",
       "      <td>0</td>\n",
       "      <td>Not Graduate</td>\n",
       "      <td>No</td>\n",
       "      <td>2583</td>\n",
       "      <td>2358.0</td>\n",
       "      <td>120.0</td>\n",
       "      <td>360.0</td>\n",
       "      <td>1.0</td>\n",
       "      <td>Urban</td>\n",
       "      <td>Y</td>\n",
       "    </tr>\n",
       "    <tr>\n",
       "      <th>4</th>\n",
       "      <td>LP001008</td>\n",
       "      <td>Male</td>\n",
       "      <td>No</td>\n",
       "      <td>0</td>\n",
       "      <td>Graduate</td>\n",
       "      <td>No</td>\n",
       "      <td>6000</td>\n",
       "      <td>0.0</td>\n",
       "      <td>141.0</td>\n",
       "      <td>360.0</td>\n",
       "      <td>1.0</td>\n",
       "      <td>Urban</td>\n",
       "      <td>Y</td>\n",
       "    </tr>\n",
       "  </tbody>\n",
       "</table>\n",
       "</div>"
      ],
      "text/plain": [
       "    Loan_ID Gender Married Dependents     Education Self_Employed  \\\n",
       "0  LP001002   Male      No          0      Graduate            No   \n",
       "1  LP001003   Male     Yes          1      Graduate            No   \n",
       "2  LP001005   Male     Yes          0      Graduate           Yes   \n",
       "3  LP001006   Male     Yes          0  Not Graduate            No   \n",
       "4  LP001008   Male      No          0      Graduate            No   \n",
       "\n",
       "   ApplicantIncome  CoapplicantIncome  LoanAmount  Loan_Amount_Term  \\\n",
       "0             5849                0.0         NaN             360.0   \n",
       "1             4583             1508.0       128.0             360.0   \n",
       "2             3000                0.0        66.0             360.0   \n",
       "3             2583             2358.0       120.0             360.0   \n",
       "4             6000                0.0       141.0             360.0   \n",
       "\n",
       "   Credit_History Property_Area Loan_Status  \n",
       "0             1.0         Urban           Y  \n",
       "1             1.0         Rural           N  \n",
       "2             1.0         Urban           Y  \n",
       "3             1.0         Urban           Y  \n",
       "4             1.0         Urban           Y  "
      ]
     },
     "execution_count": 1,
     "metadata": {},
     "output_type": "execute_result"
    }
   ],
   "source": [
    "import pandas as pd\n",
    "import numpy as np\n",
    "import matplotlib as plt\n",
    "\n",
    "df = pd.read_csv(\"train_ctrUa4K.csv\") \n",
    "\n",
    "print(df.shape)\n",
    "df.head()"
   ]
  },
  {
   "cell_type": "markdown",
   "metadata": {},
   "source": [
    "There are 614 rows and 13 columns in our dataset."
   ]
  },
  {
   "cell_type": "code",
   "execution_count": 2,
   "metadata": {},
   "outputs": [
    {
     "data": {
      "text/plain": [
       "Loan_ID               object\n",
       "Gender                object\n",
       "Married               object\n",
       "Dependents            object\n",
       "Education             object\n",
       "Self_Employed         object\n",
       "ApplicantIncome        int64\n",
       "CoapplicantIncome    float64\n",
       "LoanAmount           float64\n",
       "Loan_Amount_Term     float64\n",
       "Credit_History       float64\n",
       "Property_Area         object\n",
       "Loan_Status           object\n",
       "dtype: object"
      ]
     },
     "execution_count": 2,
     "metadata": {},
     "output_type": "execute_result"
    }
   ],
   "source": [
    "df.dtypes"
   ]
  },
  {
   "cell_type": "markdown",
   "metadata": {},
   "source": [
    "number of categorical and continuous features"
   ]
  },
  {
   "cell_type": "code",
   "execution_count": 3,
   "metadata": {},
   "outputs": [
    {
     "name": "stdout",
     "output_type": "stream",
     "text": [
      "Number of categorical features : 8\n",
      "Number of continuous features : 5\n"
     ]
    }
   ],
   "source": [
    "print(\"Number of categorical features : {}\".format(len(df.select_dtypes(include=['object']).columns)))\n",
    "print(\"Number of continuous features : {}\".format(len(df.select_dtypes(include=['int64', 'float64']).columns)))"
   ]
  },
  {
   "cell_type": "code",
   "execution_count": 4,
   "metadata": {},
   "outputs": [
    {
     "data": {
      "text/html": [
       "<div>\n",
       "<style scoped>\n",
       "    .dataframe tbody tr th:only-of-type {\n",
       "        vertical-align: middle;\n",
       "    }\n",
       "\n",
       "    .dataframe tbody tr th {\n",
       "        vertical-align: top;\n",
       "    }\n",
       "\n",
       "    .dataframe thead th {\n",
       "        text-align: right;\n",
       "    }\n",
       "</style>\n",
       "<table border=\"1\" class=\"dataframe\">\n",
       "  <thead>\n",
       "    <tr style=\"text-align: right;\">\n",
       "      <th></th>\n",
       "      <th>ApplicantIncome</th>\n",
       "      <th>CoapplicantIncome</th>\n",
       "      <th>LoanAmount</th>\n",
       "      <th>Loan_Amount_Term</th>\n",
       "      <th>Credit_History</th>\n",
       "    </tr>\n",
       "  </thead>\n",
       "  <tbody>\n",
       "    <tr>\n",
       "      <th>count</th>\n",
       "      <td>614.000000</td>\n",
       "      <td>614.000000</td>\n",
       "      <td>592.000000</td>\n",
       "      <td>600.00000</td>\n",
       "      <td>564.000000</td>\n",
       "    </tr>\n",
       "    <tr>\n",
       "      <th>mean</th>\n",
       "      <td>5403.459283</td>\n",
       "      <td>1621.245798</td>\n",
       "      <td>146.412162</td>\n",
       "      <td>342.00000</td>\n",
       "      <td>0.842199</td>\n",
       "    </tr>\n",
       "    <tr>\n",
       "      <th>std</th>\n",
       "      <td>6109.041673</td>\n",
       "      <td>2926.248369</td>\n",
       "      <td>85.587325</td>\n",
       "      <td>65.12041</td>\n",
       "      <td>0.364878</td>\n",
       "    </tr>\n",
       "    <tr>\n",
       "      <th>min</th>\n",
       "      <td>150.000000</td>\n",
       "      <td>0.000000</td>\n",
       "      <td>9.000000</td>\n",
       "      <td>12.00000</td>\n",
       "      <td>0.000000</td>\n",
       "    </tr>\n",
       "    <tr>\n",
       "      <th>25%</th>\n",
       "      <td>2877.500000</td>\n",
       "      <td>0.000000</td>\n",
       "      <td>100.000000</td>\n",
       "      <td>360.00000</td>\n",
       "      <td>1.000000</td>\n",
       "    </tr>\n",
       "    <tr>\n",
       "      <th>50%</th>\n",
       "      <td>3812.500000</td>\n",
       "      <td>1188.500000</td>\n",
       "      <td>128.000000</td>\n",
       "      <td>360.00000</td>\n",
       "      <td>1.000000</td>\n",
       "    </tr>\n",
       "    <tr>\n",
       "      <th>75%</th>\n",
       "      <td>5795.000000</td>\n",
       "      <td>2297.250000</td>\n",
       "      <td>168.000000</td>\n",
       "      <td>360.00000</td>\n",
       "      <td>1.000000</td>\n",
       "    </tr>\n",
       "    <tr>\n",
       "      <th>max</th>\n",
       "      <td>81000.000000</td>\n",
       "      <td>41667.000000</td>\n",
       "      <td>700.000000</td>\n",
       "      <td>480.00000</td>\n",
       "      <td>1.000000</td>\n",
       "    </tr>\n",
       "  </tbody>\n",
       "</table>\n",
       "</div>"
      ],
      "text/plain": [
       "       ApplicantIncome  CoapplicantIncome  LoanAmount  Loan_Amount_Term  \\\n",
       "count       614.000000         614.000000  592.000000         600.00000   \n",
       "mean       5403.459283        1621.245798  146.412162         342.00000   \n",
       "std        6109.041673        2926.248369   85.587325          65.12041   \n",
       "min         150.000000           0.000000    9.000000          12.00000   \n",
       "25%        2877.500000           0.000000  100.000000         360.00000   \n",
       "50%        3812.500000        1188.500000  128.000000         360.00000   \n",
       "75%        5795.000000        2297.250000  168.000000         360.00000   \n",
       "max       81000.000000       41667.000000  700.000000         480.00000   \n",
       "\n",
       "       Credit_History  \n",
       "count      564.000000  \n",
       "mean         0.842199  \n",
       "std          0.364878  \n",
       "min          0.000000  \n",
       "25%          1.000000  \n",
       "50%          1.000000  \n",
       "75%          1.000000  \n",
       "max          1.000000  "
      ]
     },
     "execution_count": 4,
     "metadata": {},
     "output_type": "execute_result"
    }
   ],
   "source": [
    "# statistics of numeric data\n",
    "df.describe()"
   ]
  },
  {
   "cell_type": "markdown",
   "metadata": {},
   "source": [
    "614 rows. We see some missing values in LoanAmount , Loan_Amount_Term and Credit_History as these are less than 614 count.\n",
    "\n",
    "We see that ApplicationIncome and CoapplicantIncome is right skewed with a mean > median\n",
    "\n",
    "\n",
    "# Visualize Income by Education"
   ]
  },
  {
   "cell_type": "code",
   "execution_count": 5,
   "metadata": {},
   "outputs": [
    {
     "data": {
      "image/png": "[encoded data removed]",
      "text/plain": [
       "<Figure size 648x432 with 1 Axes>"
      ]
     },
     "metadata": {
      "needs_background": "light"
     },
     "output_type": "display_data"
    }
   ],
   "source": [
    "df.boxplot(column='ApplicantIncome', by = 'Education', figsize=(9,6));"
   ]
  },
  {
   "cell_type": "markdown",
   "metadata": {},
   "source": [
    "There is no substantial difference between the mean income of graduate and non-graduates. But there are a higher number of graduates with very high incomes, which appear as outliers"
   ]
  },
  {
   "cell_type": "code",
   "execution_count": 6,
   "metadata": {},
   "outputs": [
    {
     "data": {
      "image/png": "[encoded data removed]",
      "text/plain": [
       "<Figure size 648x432 with 1 Axes>"
      ]
     },
     "metadata": {
      "needs_background": "light"
     },
     "output_type": "display_data"
    }
   ],
   "source": [
    "df['ApplicantIncome'].hist(bins=50, figsize=(9,6));"
   ]
  },
  {
   "cell_type": "markdown",
   "metadata": {},
   "source": [
    "Similar analysis for LoanAmount. As a result we will need to log transform income values to create a more normal distribution."
   ]
  },
  {
   "cell_type": "code",
   "execution_count": 7,
   "metadata": {},
   "outputs": [
    {
     "data": {
      "image/png": "[encoded data removed]",
      "text/plain": [
       "<Figure size 432x288 with 1 Axes>"
      ]
     },
     "metadata": {
      "needs_background": "light"
     },
     "output_type": "display_data"
    }
   ],
   "source": [
    "df.boxplot(column='LoanAmount');"
   ]
  },
  {
   "cell_type": "code",
   "execution_count": 8,
   "metadata": {},
   "outputs": [
    {
     "data": {
      "image/png": "[encoded data removed]",
      "text/plain": [
       "<Figure size 648x432 with 1 Axes>"
      ]
     },
     "metadata": {
      "needs_background": "light"
     },
     "output_type": "display_data"
    }
   ],
   "source": [
    "df['LoanAmount'].hist(bins=50, figsize=(9,6));"
   ]
  },
  {
   "cell_type": "code",
   "execution_count": 9,
   "metadata": {},
   "outputs": [
    {
     "data": {
      "text/plain": [
       "Index(['Gender', 'Married', 'Dependents', 'Education', 'Self_Employed',\n",
       "       'ApplicantIncome', 'CoapplicantIncome', 'LoanAmount',\n",
       "       'Loan_Amount_Term', 'Credit_History', 'Property_Area', 'Loan_Status'],\n",
       "      dtype='object')"
      ]
     },
     "execution_count": 9,
     "metadata": {},
     "output_type": "execute_result"
    }
   ],
   "source": [
    "# delete as it doesn't add value\n",
    "del df['Loan_ID']\n",
    "df.columns"
   ]
  },
  {
   "cell_type": "markdown",
   "metadata": {},
   "source": [
    "# look at the value counts for the categorical variables"
   ]
  },
  {
   "cell_type": "code",
   "execution_count": 10,
   "metadata": {},
   "outputs": [
    {
     "name": "stdout",
     "output_type": "stream",
     "text": [
      "Gender\n",
      "Male      489\n",
      "Female    112\n",
      "Name: Gender, dtype: int64 \n",
      "\n",
      "Married\n",
      "Yes    398\n",
      "No     213\n",
      "Name: Married, dtype: int64 \n",
      "\n",
      "Dependents\n",
      "0     345\n",
      "1     102\n",
      "2     101\n",
      "3+     51\n",
      "Name: Dependents, dtype: int64 \n",
      "\n",
      "Education\n",
      "Graduate        480\n",
      "Not Graduate    134\n",
      "Name: Education, dtype: int64 \n",
      "\n",
      "Self_Employed\n",
      "No     500\n",
      "Yes     82\n",
      "Name: Self_Employed, dtype: int64 \n",
      "\n",
      "Loan_Amount_Term\n",
      "360.0    512\n",
      "180.0     44\n",
      "480.0     15\n",
      "300.0     13\n",
      "84.0       4\n",
      "240.0      4\n",
      "120.0      3\n",
      "36.0       2\n",
      "60.0       2\n",
      "12.0       1\n",
      "Name: Loan_Amount_Term, dtype: int64 \n",
      "\n",
      "Credit_History\n",
      "1.0    475\n",
      "0.0     89\n",
      "Name: Credit_History, dtype: int64 \n",
      "\n",
      "Property_Area\n",
      "Semiurban    233\n",
      "Urban        202\n",
      "Rural        179\n",
      "Name: Property_Area, dtype: int64 \n",
      "\n",
      "Loan_Status\n",
      "Y    422\n",
      "N    192\n",
      "Name: Loan_Status, dtype: int64 \n",
      "\n"
     ]
    }
   ],
   "source": [
    "for c in df.columns:\n",
    "    if c in['ApplicantIncome', 'CoapplicantIncome', 'LoanAmount']:\n",
    "        continue\n",
    "    print(c)\n",
    "    print(df[c].value_counts(), '\\n')"
   ]
  },
  {
   "cell_type": "markdown",
   "metadata": {},
   "source": [
    "More applicates are Male and about half are married. Most are college graduates and not self employed. Over twice as many loans were approved versus not approved.\n",
    "\n",
    "# Visualize Income and LoanAmount vs Approved"
   ]
  },
  {
   "cell_type": "code",
   "execution_count": 11,
   "metadata": {},
   "outputs": [
    {
     "data": {
      "image/png": "[encoded data removed]",
      "text/plain": [
       "<Figure size 576x576 with 1 Axes>"
      ]
     },
     "metadata": {
      "needs_background": "light"
     },
     "output_type": "display_data"
    }
   ],
   "source": [
    "import matplotlib.pyplot as plt\n",
    "\n",
    "def barPlot(data, aTitle):\n",
    "    data = data[data['Loan_Status']=='Y']\n",
    "    ax = data.plot(kind='hist', figsize=(8, 8), title=aTitle, legend=True, fontsize=12)\n",
    "    ax.set_xlabel(data.columns[0], fontsize=12)\n",
    "    ax.set_ylabel(\"Loan_Status\", fontsize=12)\n",
    "    plt.show()\n",
    "    \n",
    "barPlot(df[['ApplicantIncome','Loan_Status']], 'Income vs Loan_Status')"
   ]
  },
  {
   "cell_type": "markdown",
   "metadata": {},
   "source": [
    "Most of the loan approvals were in the lower inome range"
   ]
  },
  {
   "cell_type": "code",
   "execution_count": 12,
   "metadata": {},
   "outputs": [
    {
     "data": {
      "image/png": "[encoded data removed]",
      "text/plain": [
       "<Figure size 576x576 with 1 Axes>"
      ]
     },
     "metadata": {
      "needs_background": "light"
     },
     "output_type": "display_data"
    }
   ],
   "source": [
    "barPlot(df[['LoanAmount','Loan_Status']], 'LoanAmount vs Loan_Status')"
   ]
  },
  {
   "cell_type": "markdown",
   "metadata": {},
   "source": [
    "Most of the loan approvals were for Loan Amounts between 100-150\n",
    "\n",
    "# look for and fill missing values"
   ]
  },
  {
   "cell_type": "code",
   "execution_count": 13,
   "metadata": {},
   "outputs": [
    {
     "data": {
      "text/plain": [
       "Gender               13\n",
       "Married               3\n",
       "Dependents           15\n",
       "Education             0\n",
       "Self_Employed        32\n",
       "ApplicantIncome       0\n",
       "CoapplicantIncome     0\n",
       "LoanAmount           22\n",
       "Loan_Amount_Term     14\n",
       "Credit_History       50\n",
       "Property_Area         0\n",
       "Loan_Status           0\n",
       "dtype: int64"
      ]
     },
     "execution_count": 13,
     "metadata": {},
     "output_type": "execute_result"
    }
   ],
   "source": [
    "# missing value counts\n",
    "\n",
    "df.apply(lambda x: sum(x.isnull()), axis=0) "
   ]
  },
  {
   "cell_type": "markdown",
   "metadata": {},
   "source": [
    "most people are not self employed so for missing values assume No"
   ]
  },
  {
   "cell_type": "code",
   "execution_count": 14,
   "metadata": {},
   "outputs": [],
   "source": [
    "df['Self_Employed'].fillna('No', inplace=True)"
   ]
  },
  {
   "cell_type": "markdown",
   "metadata": {},
   "source": [
    "add a new total income column which combines two incomes and log transform"
   ]
  },
  {
   "cell_type": "code",
   "execution_count": 15,
   "metadata": {},
   "outputs": [],
   "source": [
    "## add a new total income column which combines incomes and log transform\n",
    "df['TotalIncome'] = df['ApplicantIncome'] + df['CoapplicantIncome']\n",
    "df['TotalIncome_log'] = np.log(df['TotalIncome'])\n",
    "\n",
    "#replacing remaining missing values\n",
    "\n",
    "df['Gender'].fillna(df['Gender'].mode()[0], inplace=True)\n",
    "df['Married'].fillna(df['Married'].mode()[0], inplace=True)\n",
    "df['Dependents'].fillna(df['Dependents'].mode()[0], inplace=True)\n",
    "df['Loan_Amount_Term'].fillna(df['Loan_Amount_Term'].mode()[0], inplace=True)\n",
    "df['Credit_History'].fillna(df['Credit_History'].mode()[0], inplace=True)"
   ]
  },
  {
   "cell_type": "markdown",
   "metadata": {},
   "source": [
    "pivot table shows median Loan amount by employment and education. Populate missing LoanAmount values given this pivot table data"
   ]
  },
  {
   "cell_type": "code",
   "execution_count": 16,
   "metadata": {},
   "outputs": [
    {
     "data": {
      "text/html": [
       "<div>\n",
       "<style scoped>\n",
       "    .dataframe tbody tr th:only-of-type {\n",
       "        vertical-align: middle;\n",
       "    }\n",
       "\n",
       "    .dataframe tbody tr th {\n",
       "        vertical-align: top;\n",
       "    }\n",
       "\n",
       "    .dataframe thead th {\n",
       "        text-align: right;\n",
       "    }\n",
       "</style>\n",
       "<table border=\"1\" class=\"dataframe\">\n",
       "  <thead>\n",
       "    <tr style=\"text-align: right;\">\n",
       "      <th>Education</th>\n",
       "      <th>Graduate</th>\n",
       "      <th>Not Graduate</th>\n",
       "    </tr>\n",
       "    <tr>\n",
       "      <th>Self_Employed</th>\n",
       "      <th></th>\n",
       "      <th></th>\n",
       "    </tr>\n",
       "  </thead>\n",
       "  <tbody>\n",
       "    <tr>\n",
       "      <th>No</th>\n",
       "      <td>130.0</td>\n",
       "      <td>113.0</td>\n",
       "    </tr>\n",
       "    <tr>\n",
       "      <th>Yes</th>\n",
       "      <td>157.5</td>\n",
       "      <td>130.0</td>\n",
       "    </tr>\n",
       "  </tbody>\n",
       "</table>\n",
       "</div>"
      ],
      "text/plain": [
       "Education      Graduate  Not Graduate\n",
       "Self_Employed                        \n",
       "No                130.0         113.0\n",
       "Yes               157.5         130.0"
      ]
     },
     "execution_count": 16,
     "metadata": {},
     "output_type": "execute_result"
    }
   ],
   "source": [
    "table = df.pivot_table(values='LoanAmount', index='Self_Employed' ,columns='Education', aggfunc=np.median)\n",
    "table"
   ]
  },
  {
   "cell_type": "code",
   "execution_count": 17,
   "metadata": {},
   "outputs": [],
   "source": [
    "def fage(x):\n",
    "    return table.loc[x['Self_Employed'], x['Education']]\n",
    "\n",
    "df['LoanAmount'].fillna(df[df['LoanAmount'].isnull()].apply(fage, axis=1), inplace=True)"
   ]
  },
  {
   "cell_type": "code",
   "execution_count": 18,
   "metadata": {},
   "outputs": [
    {
     "data": {
      "image/png": "[encoded data removed]",
      "text/plain": [
       "<Figure size 432x288 with 1 Axes>"
      ]
     },
     "metadata": {
      "needs_background": "light"
     },
     "output_type": "display_data"
    }
   ],
   "source": [
    "df[['LoanAmount']].hist();"
   ]
  },
  {
   "cell_type": "markdown",
   "metadata": {},
   "source": [
    "Histogram is skewed. Log transform monetary values due to outliers (Eg: some individuals making much more than the average and others making much less"
   ]
  },
  {
   "cell_type": "code",
   "execution_count": 19,
   "metadata": {},
   "outputs": [
    {
     "data": {
      "image/png": "[encoded data removed]",
      "text/plain": [
       "<Figure size 432x288 with 1 Axes>"
      ]
     },
     "metadata": {
      "needs_background": "light"
     },
     "output_type": "display_data"
    }
   ],
   "source": [
    "df['LoanAmount_log'] = np.log(df['LoanAmount'])\n",
    "\n",
    "df[['LoanAmount_log']].hist();"
   ]
  },
  {
   "cell_type": "markdown",
   "metadata": {},
   "source": [
    "The log transformed LoanAmount has a more normal distribution.\n",
    "\n",
    "# Model Selection via Cross Validation\n",
    "\n",
    "Models get better as the amount of training data increases. One solution is cross validation. With cross validation, dataset is divided into n splits. N-1 split is used for training and the remaining split is used for testing. The model runs through the entire dataset n times and at each time, a different split is used for testing. Thus, we use all of data points for both training and testing. Cross validation is also useful to measure the performance of a model more accurately, especially on new, previously unseen data points.\n",
    "\n",
    "There are different methods to split data in cross validation. KFold and StratifiedKFold are commonly used.\n",
    "\n",
    "KFold: divides the dataset into k folds. If shuffle is set to False, consecutive folds will be the shifted version of previous fold.If shuffle is set to True, then the splitting will be random. StratifiedKFold: in classifications tasks with imbalanced class distributions, we should prefer StratifiedKFold over KFold Cross_val_score takes the dataset and applies cross validation to split the data. Then, train a model using the specified estimator (e.g. logistic regression, decision tree, …) and measure the performance of the model (scoring parameter).\n",
    "\n",
    "# encode categorical\n",
    "\n",
    "Gender, Married, Dependents, Education, Self_Employed, Property_Area, Loan_Status, Credit_History, Loan_Amount_Term"
   ]
  },
  {
   "cell_type": "code",
   "execution_count": 20,
   "metadata": {},
   "outputs": [
    {
     "data": {
      "text/plain": [
       "Gender                 int64\n",
       "Married                int64\n",
       "Dependents             int64\n",
       "Education              int64\n",
       "Self_Employed          int64\n",
       "ApplicantIncome        int64\n",
       "CoapplicantIncome    float64\n",
       "LoanAmount           float64\n",
       "Loan_Amount_Term       int64\n",
       "Credit_History         int64\n",
       "Property_Area          int64\n",
       "Loan_Status            int64\n",
       "TotalIncome          float64\n",
       "TotalIncome_log      float64\n",
       "LoanAmount_log       float64\n",
       "dtype: object"
      ]
     },
     "execution_count": 20,
     "metadata": {},
     "output_type": "execute_result"
    }
   ],
   "source": [
    "from sklearn.preprocessing import LabelEncoder\n",
    "\n",
    "var_mod = ['Gender','Married','Dependents','Education','Self_Employed','Property_Area','Loan_Status',\n",
    "          'Credit_History', 'Loan_Amount_Term']\n",
    "\n",
    "le = LabelEncoder()\n",
    "for i in var_mod:\n",
    "    df[i] = le.fit_transform(df[i].astype(str))\n",
    "\n",
    "df.dtypes"
   ]
  },
  {
   "cell_type": "markdown",
   "metadata": {},
   "source": [
    "# Correlation Matrix"
   ]
  },
  {
   "cell_type": "code",
   "execution_count": 21,
   "metadata": {},
   "outputs": [
    {
     "data": {
      "image/png": "[encoded data removed]",
      "text/plain": [
       "<Figure size 1080x1080 with 2 Axes>"
      ]
     },
     "metadata": {
      "needs_background": "light"
     },
     "output_type": "display_data"
    }
   ],
   "source": [
    "import matplotlib.pyplot as plt\n",
    "import seaborn as sns\n",
    "\n",
    "corrmat = df.corr()\n",
    "top_corr_features = corrmat.index\n",
    "plt.figure(figsize=(15,15))\n",
    "\n",
    "#plot heat map\n",
    "g=sns.heatmap(df[top_corr_features].corr(),annot=True,cmap=\"RdYlGn\")"
   ]
  },
  {
   "cell_type": "markdown",
   "metadata": {},
   "source": [
    "- remove TotalIncome, ApplicantIncome from modeling given derived column TotalIncome_log\n",
    "- remove LoanAmount given LoanAmount_Log\n",
    "\n",
    "# categorical features"
   ]
  },
  {
   "cell_type": "code",
   "execution_count": 22,
   "metadata": {},
   "outputs": [
    {
     "data": {
      "text/html": [
       "<div>\n",
       "<style scoped>\n",
       "    .dataframe tbody tr th:only-of-type {\n",
       "        vertical-align: middle;\n",
       "    }\n",
       "\n",
       "    .dataframe tbody tr th {\n",
       "        vertical-align: top;\n",
       "    }\n",
       "\n",
       "    .dataframe thead th {\n",
       "        text-align: right;\n",
       "    }\n",
       "</style>\n",
       "<table border=\"1\" class=\"dataframe\">\n",
       "  <thead>\n",
       "    <tr style=\"text-align: right;\">\n",
       "      <th></th>\n",
       "      <th>Gender</th>\n",
       "      <th>Married</th>\n",
       "      <th>Dependents</th>\n",
       "      <th>Education</th>\n",
       "      <th>Self_Employed</th>\n",
       "      <th>Property_Area</th>\n",
       "      <th>Loan_Status</th>\n",
       "      <th>Credit_History</th>\n",
       "      <th>Loan_Amount_Term</th>\n",
       "    </tr>\n",
       "  </thead>\n",
       "  <tbody>\n",
       "    <tr>\n",
       "      <th>0</th>\n",
       "      <td>1</td>\n",
       "      <td>0</td>\n",
       "      <td>0</td>\n",
       "      <td>0</td>\n",
       "      <td>0</td>\n",
       "      <td>2</td>\n",
       "      <td>1</td>\n",
       "      <td>1</td>\n",
       "      <td>6</td>\n",
       "    </tr>\n",
       "    <tr>\n",
       "      <th>1</th>\n",
       "      <td>1</td>\n",
       "      <td>1</td>\n",
       "      <td>1</td>\n",
       "      <td>0</td>\n",
       "      <td>0</td>\n",
       "      <td>0</td>\n",
       "      <td>0</td>\n",
       "      <td>1</td>\n",
       "      <td>6</td>\n",
       "    </tr>\n",
       "    <tr>\n",
       "      <th>2</th>\n",
       "      <td>1</td>\n",
       "      <td>1</td>\n",
       "      <td>0</td>\n",
       "      <td>0</td>\n",
       "      <td>1</td>\n",
       "      <td>2</td>\n",
       "      <td>1</td>\n",
       "      <td>1</td>\n",
       "      <td>6</td>\n",
       "    </tr>\n",
       "    <tr>\n",
       "      <th>3</th>\n",
       "      <td>1</td>\n",
       "      <td>1</td>\n",
       "      <td>0</td>\n",
       "      <td>1</td>\n",
       "      <td>0</td>\n",
       "      <td>2</td>\n",
       "      <td>1</td>\n",
       "      <td>1</td>\n",
       "      <td>6</td>\n",
       "    </tr>\n",
       "    <tr>\n",
       "      <th>4</th>\n",
       "      <td>1</td>\n",
       "      <td>0</td>\n",
       "      <td>0</td>\n",
       "      <td>0</td>\n",
       "      <td>0</td>\n",
       "      <td>2</td>\n",
       "      <td>1</td>\n",
       "      <td>1</td>\n",
       "      <td>6</td>\n",
       "    </tr>\n",
       "  </tbody>\n",
       "</table>\n",
       "</div>"
      ],
      "text/plain": [
       "   Gender  Married  Dependents  Education  Self_Employed  Property_Area  \\\n",
       "0       1        0           0          0              0              2   \n",
       "1       1        1           1          0              0              0   \n",
       "2       1        1           0          0              1              2   \n",
       "3       1        1           0          1              0              2   \n",
       "4       1        0           0          0              0              2   \n",
       "\n",
       "   Loan_Status  Credit_History  Loan_Amount_Term  \n",
       "0            1               1                 6  \n",
       "1            0               1                 6  \n",
       "2            1               1                 6  \n",
       "3            1               1                 6  \n",
       "4            1               1                 6  "
      ]
     },
     "execution_count": 22,
     "metadata": {},
     "output_type": "execute_result"
    }
   ],
   "source": [
    "catFeatures = df[['Gender','Married','Dependents','Education','Self_Employed','Property_Area','Loan_Status',\n",
    "                 'Credit_History', 'Loan_Amount_Term']]\n",
    "catFeatures.head()"
   ]
  },
  {
   "cell_type": "markdown",
   "metadata": {},
   "source": [
    "# What's the relationship between Loan_Status and category variables?"
   ]
  },
  {
   "cell_type": "code",
   "execution_count": 23,
   "metadata": {},
   "outputs": [
    {
     "name": "stdout",
     "output_type": "stream",
     "text": [
      "      Variable  Outcome  Count  Percent\n",
      "0       Gender        1    502    81.76\n",
      "1                     0    112    18.24\n",
      "2  Loan_Status        1    422    68.73\n",
      "3                     0    192    31.27 \n",
      "\n",
      "      Variable  Outcome  Count  Percent\n",
      "0      Married        1    401    65.31\n",
      "1                     0    213    34.69\n",
      "2  Loan_Status        1    422    68.73\n",
      "3                     0    192    31.27 \n",
      "\n",
      "      Variable  Outcome  Count  Percent\n",
      "0   Dependents        0    360    58.63\n",
      "1                     1    102    16.61\n",
      "2                     2    101    16.45\n",
      "3                     3     51     8.31\n",
      "4  Loan_Status        1    422    68.73\n",
      "5                     0    192    31.27 \n",
      "\n",
      "      Variable  Outcome  Count  Percent\n",
      "0    Education        0    480    78.18\n",
      "1                     1    134    21.82\n",
      "2  Loan_Status        1    422    68.73\n",
      "3                     0    192    31.27 \n",
      "\n",
      "        Variable  Outcome  Count  Percent\n",
      "0  Self_Employed        0    532    86.64\n",
      "1                       1     82    13.36\n",
      "2    Loan_Status        1    422    68.73\n",
      "3                       0    192    31.27 \n",
      "\n",
      "        Variable  Outcome  Count  Percent\n",
      "0  Property_Area        1    233    37.95\n",
      "1                       2    202    32.90\n",
      "2                       0    179    29.15\n",
      "3    Loan_Status        1    422    68.73\n",
      "4                       0    192    31.27 \n",
      "\n",
      "         Variable  Outcome  Count  Percent\n",
      "0  Credit_History        1    525    85.50\n",
      "1                        0     89    14.50\n",
      "2     Loan_Status        1    422    68.73\n",
      "3                        0    192    31.27 \n",
      "\n",
      "            Variable  Outcome  Count  Percent\n",
      "0   Loan_Amount_Term        6    526    85.67\n",
      "1                           2     44     7.17\n",
      "2                           7     15     2.44\n",
      "3                           4     13     2.12\n",
      "4                           9      4     0.65\n",
      "5                           3      4     0.65\n",
      "6                           1      3     0.49\n",
      "7                           8      2     0.33\n",
      "8                           5      2     0.33\n",
      "9                           0      1     0.16\n",
      "10       Loan_Status        1    422    68.73\n",
      "11                          0    192    31.27 \n",
      "\n"
     ]
    }
   ],
   "source": [
    "import researchpy as rp\n",
    "\n",
    "for c in catFeatures.columns:\n",
    "    if c=='Loan_Status':\n",
    "        continue\n",
    "    print(rp.summary_cat(df[[c, \"Loan_Status\"]]), '\\n')\n",
    "    "
   ]
  },
  {
   "cell_type": "markdown",
   "metadata": {},
   "source": [
    "From above, more loans are approved than not.\n",
    "\n",
    "- Of these more applicants are males, married, and the majority 0 dependents.\n",
    "- 78% are college graduates and are not self employed\n",
    "- Most loans are for 30 years\n",
    "\n",
    "# Feature Selection using RandomForest"
   ]
  },
  {
   "cell_type": "code",
   "execution_count": 24,
   "metadata": {},
   "outputs": [
    {
     "data": {
      "text/plain": [
       "Index(['Gender', 'Married', 'Dependents', 'Education', 'Self_Employed',\n",
       "       'ApplicantIncome', 'CoapplicantIncome', 'LoanAmount',\n",
       "       'Loan_Amount_Term', 'Credit_History', 'Property_Area', 'Loan_Status',\n",
       "       'TotalIncome', 'TotalIncome_log', 'LoanAmount_log'],\n",
       "      dtype='object')"
      ]
     },
     "execution_count": 24,
     "metadata": {},
     "output_type": "execute_result"
    }
   ],
   "source": [
    "df.columns"
   ]
  },
  {
   "cell_type": "code",
   "execution_count": 25,
   "metadata": {},
   "outputs": [
    {
     "name": "stdout",
     "output_type": "stream",
     "text": [
      "('Gender', 0.019535676743160545)\n",
      "('Married', 0.026324693334126046)\n",
      "('Dependents', 0.05840012812565244)\n",
      "('Education', 0.025352216708364565)\n",
      "('Self_Employed', 0.025216445699031916)\n",
      "('Loan_Amount_Term', 0.029216790124792013)\n",
      "('Credit_History', 0.26415492518940975)\n",
      "('Property_Area', 0.053931816731333695)\n",
      "('LoanAmount_log', 0.22924725453789438)\n",
      "('TotalIncome_log', 0.26862005280623463)\n"
     ]
    }
   ],
   "source": [
    "from sklearn.ensemble import RandomForestClassifier\n",
    "from sklearn.model_selection import train_test_split\n",
    "from sklearn.feature_selection import SelectFromModel\n",
    "from sklearn.metrics import accuracy_score\n",
    "\n",
    "# All columns\n",
    "predictors = ['Gender', 'Married', 'Dependents', 'Education', 'Self_Employed',\n",
    "       'Loan_Amount_Term', 'Credit_History', 'Property_Area', \n",
    "       'LoanAmount_log', 'TotalIncome_log']\n",
    "\n",
    "\n",
    "# Split the data into 30% test and 70% training\n",
    "X_train, X_test, y_train, y_test = train_test_split(df[predictors], \n",
    "                                                    df['Loan_Status'], \n",
    "                                                    test_size=0.3, random_state=0)\n",
    "\n",
    "# Create a random forest classifier fpr feature importance\n",
    "clf = RandomForestClassifier(n_estimators=10000, random_state=0, n_jobs=-1)\n",
    "\n",
    "clf.fit(X_train, y_train)\n",
    "\n",
    "# Print the name and gini importance of each feature\n",
    "for feature in zip(predictors, clf.feature_importances_):\n",
    "    print(feature)\n",
    "    "
   ]
  },
  {
   "cell_type": "markdown",
   "metadata": {},
   "source": [
    "The scores above are the importance scores for each variable. All the importance scores add up to 100%\n",
    "\n",
    "# Identify And Select Most Important Features"
   ]
  },
  {
   "cell_type": "code",
   "execution_count": 26,
   "metadata": {},
   "outputs": [
    {
     "name": "stdout",
     "output_type": "stream",
     "text": [
      "Credit_History\n",
      "LoanAmount_log\n",
      "TotalIncome_log\n"
     ]
    }
   ],
   "source": [
    "# Create a selector object that uses the random forest classifier to identify\n",
    "# features that have an importance of more than 0.10\n",
    "sfm = SelectFromModel(clf, threshold=0.10)\n",
    "\n",
    "# Train the selector\n",
    "sfm.fit(X_train, y_train)\n",
    "\n",
    "# Print the names of the most important features\n",
    "for feature_list_index in sfm.get_support(indices=True):\n",
    "    print(predictors[feature_list_index])"
   ]
  },
  {
   "cell_type": "markdown",
   "metadata": {},
   "source": [
    "# Create A Data Subset With Only the most important Features and compare the accuracy Of the Full Feature Classifier to the Limited Feature Classifier"
   ]
  },
  {
   "cell_type": "code",
   "execution_count": 27,
   "metadata": {},
   "outputs": [
    {
     "name": "stdout",
     "output_type": "stream",
     "text": [
      "full model: 0.7945945945945946\n",
      "limited model: 0.7621621621621621\n"
     ]
    }
   ],
   "source": [
    "X_important_train = sfm.transform(X_train)\n",
    "X_important_test = sfm.transform(X_test)\n",
    "\n",
    "#Train A New Random Forest Classifier Using Only Most Important Features\n",
    "clf_important = RandomForestClassifier(n_estimators=10000, random_state=0, n_jobs=-1)\n",
    "\n",
    "clf_important.fit(X_important_train, y_train)\n",
    "\n",
    "# Apply The Full Featured Classifier To The Test Data\n",
    "y_pred = clf.predict(X_test)\n",
    "print('full model:', accuracy_score(y_test, y_pred))\n",
    "\n",
    "\n",
    "# Apply The limited Featured Classifier To The Test Data\n",
    "y_important_pred = clf_important.predict(X_important_test)\n",
    "\n",
    "print('limited model:', accuracy_score(y_test, y_important_pred))"
   ]
  },
  {
   "cell_type": "markdown",
   "metadata": {},
   "source": [
    "The original model which contained all features is only slightly more accurate than the ‘limited’ model with only the following features:\n",
    "\n",
    "- Credit_History, LoanAmount_log, TotalIncome_log\n",
    "\n",
    "# Chi-Square Feature Selection for categorical\n",
    "\n",
    "A chi-square test is used to test the independence of two events. More specifically in feature selection we use it to test whether the occurrence of a specific term and the occurrence of a specific class are independent."
   ]
  },
  {
   "cell_type": "code",
   "execution_count": 28,
   "metadata": {},
   "outputs": [
    {
     "data": {
      "text/plain": [
       "(array([3.62343084e-02, 1.78242499e+00, 8.59527587e-02, 3.54050246e+00,\n",
       "        7.28480330e-03, 3.77837464e-01, 2.60058772e+01, 2.68593345e-03]),\n",
       " array([8.49032435e-01, 1.81851834e-01, 7.69386856e-01, 5.98873168e-02,\n",
       "        9.31982300e-01, 5.38762867e-01, 3.40379591e-07, 9.58667345e-01]))"
      ]
     },
     "execution_count": 28,
     "metadata": {},
     "output_type": "execute_result"
    }
   ],
   "source": [
    "from sklearn.feature_selection import chi2\n",
    "\n",
    "y = catFeatures ['Loan_Status'].values\n",
    "\n",
    "catFeatures = catFeatures.drop(['Loan_Status'], axis=1)\n",
    "x = catFeatures.values\n",
    "\n",
    "chi_scores = chi2(x, y)\n",
    "chi_scores"
   ]
  },
  {
   "cell_type": "markdown",
   "metadata": {},
   "source": [
    "The first array represents chi square values and second array represnts p-values. Plotting the p-values"
   ]
  },
  {
   "cell_type": "code",
   "execution_count": 29,
   "metadata": {},
   "outputs": [
    {
     "data": {
      "text/plain": [
       "Loan_Amount_Term   0.9586673447\n",
       "Self_Employed      0.9319823003\n",
       "Gender             0.8490324346\n",
       "Dependents         0.7693868564\n",
       "Property_Area      0.5387628674\n",
       "Married            0.1818518340\n",
       "Education          0.0598873168\n",
       "Credit_History     0.0000003404\n",
       "dtype: float64"
      ]
     },
     "execution_count": 29,
     "metadata": {},
     "output_type": "execute_result"
    }
   ],
   "source": [
    "# supporess scientific notation\n",
    "pd.set_option('display.float_format', lambda x: '%.10f' % x)\n",
    "\n",
    "p_values = pd.Series(chi_scores[1], index = catFeatures.columns)\n",
    "p_values.sort_values(ascending = False , inplace = True)\n",
    "p_values"
   ]
  },
  {
   "cell_type": "code",
   "execution_count": 30,
   "metadata": {},
   "outputs": [
    {
     "data": {
      "image/png": "[encoded data removed]",
      "text/plain": [
       "<Figure size 432x288 with 1 Axes>"
      ]
     },
     "metadata": {
      "needs_background": "light"
     },
     "output_type": "display_data"
    }
   ],
   "source": [
    "p_values.plot.bar();"
   ]
  },
  {
   "cell_type": "markdown",
   "metadata": {},
   "source": [
    "- Credit_History, Education\n",
    "\n",
    "are the only features with p-values near (p < 0.05 which is the usual test for dependence). All other features have a pvalue well above 0.05, indicating they are independent of the response variable and hence aren't considered for model training.\n",
    "\n",
    "\n",
    "# SelectKBest for Feature Selection"
   ]
  },
  {
   "cell_type": "code",
   "execution_count": 31,
   "metadata": {},
   "outputs": [
    {
     "name": "stdout",
     "output_type": "stream",
     "text": [
      "(614, 8)\n",
      "feature scores:  [3.62343084e-02 1.78242499e+00 8.59527587e-02 3.54050246e+00\n",
      " 7.28480330e-03 3.77837464e-01 2.60058772e+01 2.68593345e-03]\n",
      "feature p-values scores: [8.49032435e-01 1.81851834e-01 7.69386856e-01 5.98873168e-02\n",
      " 9.31982300e-01 5.38762867e-01 3.40379591e-07 9.58667345e-01]\n"
     ]
    }
   ],
   "source": [
    "from sklearn.feature_selection import SelectKBest\n",
    "from sklearn.feature_selection import f_classif\n",
    "from sklearn.feature_selection import chi2\n",
    "\n",
    "selector = SelectKBest(score_func=chi2, # Chi-squared stats of non-negative features for classification tasks\n",
    "                       k='all')  \n",
    "\n",
    "#y = catFeatures ['Loan_Status'].values\n",
    "#catFeatures = catFeatures.drop(['Loan_Status'], axis=1)\n",
    "#x = catFeatures.values\n",
    "    \n",
    "# apply feature selection\n",
    "x_selected = selector.fit_transform(x, y)\n",
    "\n",
    "print(x_selected.shape)\n",
    "print('feature scores: ', selector.scores_,)\n",
    "print('feature p-values scores:',  selector.pvalues_)"
   ]
  },
  {
   "cell_type": "code",
   "execution_count": 32,
   "metadata": {},
   "outputs": [
    {
     "name": "stdout",
     "output_type": "stream",
     "text": [
      "            Feature      F_Scores\n",
      "6    Credit_History 26.0058771534\n",
      "3         Education  3.5405024640\n",
      "1           Married  1.7824249851\n",
      "5     Property_Area  0.3778374638\n",
      "2        Dependents  0.0859527587\n",
      "0            Gender  0.0362343084\n",
      "4     Self_Employed  0.0072848033\n",
      "7  Loan_Amount_Term  0.0026859335\n"
     ]
    }
   ],
   "source": [
    "# Get F-scores\n",
    "cols = selector.get_support(indices=True)\n",
    "\n",
    "fscores = selector.scores_[cols]\n",
    "\n",
    "names = catFeatures.iloc[:, cols]\n",
    "names_scores = list(zip(names, fscores))\n",
    "\n",
    "ns_df = pd.DataFrame(data = names_scores, columns=['Feature', 'F_Scores'])\n",
    "\n",
    "#sort\n",
    "ns_df_sorted = ns_df.sort_values(['F_Scores', 'Feature'], ascending = [False, True])\n",
    "print(ns_df_sorted)"
   ]
  },
  {
   "cell_type": "markdown",
   "metadata": {},
   "source": [
    "Top selected categorical features given higher F scores:\n",
    "\n",
    "- Credit_History, Education is aligned with the chi2 test.\n",
    "\n",
    "# Numeric Features"
   ]
  },
  {
   "cell_type": "code",
   "execution_count": 33,
   "metadata": {},
   "outputs": [
    {
     "data": {
      "text/html": [
       "<div>\n",
       "<style scoped>\n",
       "    .dataframe tbody tr th:only-of-type {\n",
       "        vertical-align: middle;\n",
       "    }\n",
       "\n",
       "    .dataframe tbody tr th {\n",
       "        vertical-align: top;\n",
       "    }\n",
       "\n",
       "    .dataframe thead th {\n",
       "        text-align: right;\n",
       "    }\n",
       "</style>\n",
       "<table border=\"1\" class=\"dataframe\">\n",
       "  <thead>\n",
       "    <tr style=\"text-align: right;\">\n",
       "      <th></th>\n",
       "      <th>Loan_Status</th>\n",
       "      <th>TotalIncome_log</th>\n",
       "      <th>LoanAmount_log</th>\n",
       "    </tr>\n",
       "  </thead>\n",
       "  <tbody>\n",
       "    <tr>\n",
       "      <th>0</th>\n",
       "      <td>1</td>\n",
       "      <td>8.6740259854</td>\n",
       "      <td>4.8675344505</td>\n",
       "    </tr>\n",
       "    <tr>\n",
       "      <th>1</th>\n",
       "      <td>0</td>\n",
       "      <td>8.7145675508</td>\n",
       "      <td>4.8520302639</td>\n",
       "    </tr>\n",
       "    <tr>\n",
       "      <th>2</th>\n",
       "      <td>1</td>\n",
       "      <td>8.0063675677</td>\n",
       "      <td>4.1896547420</td>\n",
       "    </tr>\n",
       "    <tr>\n",
       "      <th>3</th>\n",
       "      <td>1</td>\n",
       "      <td>8.5053230188</td>\n",
       "      <td>4.7874917428</td>\n",
       "    </tr>\n",
       "    <tr>\n",
       "      <th>4</th>\n",
       "      <td>1</td>\n",
       "      <td>8.6995147482</td>\n",
       "      <td>4.9487598904</td>\n",
       "    </tr>\n",
       "  </tbody>\n",
       "</table>\n",
       "</div>"
      ],
      "text/plain": [
       "   Loan_Status  TotalIncome_log  LoanAmount_log\n",
       "0            1     8.6740259854    4.8675344505\n",
       "1            0     8.7145675508    4.8520302639\n",
       "2            1     8.0063675677    4.1896547420\n",
       "3            1     8.5053230188    4.7874917428\n",
       "4            1     8.6995147482    4.9487598904"
      ]
     },
     "execution_count": 33,
     "metadata": {},
     "output_type": "execute_result"
    }
   ],
   "source": [
    "numFeatures = df.drop(['Gender','Married','Dependents','Education','Self_Employed','Property_Area',\n",
    "                      'ApplicantIncome', 'CoapplicantIncome', 'LoanAmount', 'TotalIncome',\n",
    "                      'Credit_History', 'Loan_Amount_Term'], axis=1)\n",
    "numFeatures.head()"
   ]
  },
  {
   "cell_type": "code",
   "execution_count": 34,
   "metadata": {},
   "outputs": [
    {
     "name": "stdout",
     "output_type": "stream",
     "text": [
      "(614, 2)\n",
      "feature scores:  [0.03208211 0.78153755]\n",
      "feature p-values scores: [0.85790684 0.37701847]\n",
      "\n",
      "        Feat_names     F_Scores\n",
      "1   LoanAmount_log 0.7815375450\n",
      "0  TotalIncome_log 0.0320821131\n"
     ]
    }
   ],
   "source": [
    "selector = SelectKBest(score_func=f_classif, #ANOVA F-value between label/feature for classification tasks.\n",
    "                       k='all')\n",
    "\n",
    "y = numFeatures ['Loan_Status'].values\n",
    "\n",
    "numFeatures = numFeatures.drop(['Loan_Status'], axis=1)\n",
    "x = numFeatures.values\n",
    "    \n",
    "x_selected = selector.fit_transform(x, y)\n",
    "\n",
    "print(x_selected.shape)\n",
    "print('feature scores: ', selector.scores_,)\n",
    "print('feature p-values scores:',  selector.pvalues_)\n",
    "print()\n",
    "\n",
    "# print F scores\n",
    "cols = selector.get_support(indices=True)\n",
    "fscores = selector.scores_[cols]\n",
    "\n",
    "names = numFeatures.iloc[:, cols]\n",
    "names_scores = list(zip(names, fscores))\n",
    "\n",
    "ns_df = pd.DataFrame(data = names_scores, columns=['Feat_names', 'F_Scores'])\n",
    "\n",
    "#Sort the dataframe for better visualization\n",
    "ns_df_sorted = ns_df.sort_values(['F_Scores', 'Feat_names'], ascending = [False, True])\n",
    "print(ns_df_sorted)"
   ]
  },
  {
   "cell_type": "markdown",
   "metadata": {},
   "source": [
    "Top numeric features given high F score: LoanAmount_log"
   ]
  },
  {
   "cell_type": "code",
   "execution_count": 35,
   "metadata": {},
   "outputs": [
    {
     "name": "stdout",
     "output_type": "stream",
     "text": [
      "TotalIncome_log   0.8579068390\n",
      "LoanAmount_log    0.3770184746\n",
      "dtype: float64\n"
     ]
    },
    {
     "data": {
      "image/png": "[encoded data removed]",
      "text/plain": [
       "<Figure size 432x288 with 1 Axes>"
      ]
     },
     "metadata": {
      "needs_background": "light"
     },
     "output_type": "display_data"
    }
   ],
   "source": [
    "p_values = pd.Series(selector.pvalues_, index = numFeatures.columns)\n",
    "p_values.sort_values(ascending = False , inplace = True)\n",
    "\n",
    "p_values.plot.bar();\n",
    "\n",
    "print(p_values)"
   ]
  },
  {
   "cell_type": "markdown",
   "metadata": {},
   "source": [
    "Combining most important categorical and numeric features:\n",
    "\n",
    "- Credit_History, Education, LoanAmount_log\n",
    "This as compared to RandomForest\n",
    "- Credit_History, LoanAmount_log, TotalIncome_log\n",
    "\n",
    "\n",
    "# Assess different models via cross validation"
   ]
  },
  {
   "cell_type": "code",
   "execution_count": 36,
   "metadata": {},
   "outputs": [],
   "source": [
    "# cross validation modeling helper\n",
    "from sklearn.ensemble import RandomForestClassifier\n",
    "from sklearn.linear_model import LogisticRegression\n",
    "from sklearn.ensemble import RandomForestClassifier\n",
    "from sklearn.naive_bayes import MultinomialNB\n",
    "\n",
    "from sklearn.model_selection import KFold\n",
    "from sklearn.model_selection import cross_val_score\n",
    "\n",
    "def classification_model(model, data, predictors, outcome, splits=10):\n",
    "    \n",
    "  kfold = KFold(n_splits=splits, random_state=7, shuffle=True) \n",
    "  x = data[predictors]\n",
    "  y = data[outcome]\n",
    "  \n",
    "  scores = cross_val_score(model, x, y, cv=kfold, scoring='accuracy')\n",
    "  print(\"  Accuracy: %f (%f)\" % (scores.mean(), scores.std()))\n",
    "  return scores"
   ]
  },
  {
   "cell_type": "code",
   "execution_count": 37,
   "metadata": {},
   "outputs": [],
   "source": [
    "def test_models(predictors, n_splits):\n",
    "    outcome_var = 'Loan_Status'\n",
    "    \n",
    "    models = [RandomForestClassifier(n_estimators=100), \n",
    "              MultinomialNB(),\n",
    "              LogisticRegression(max_iter=500),\n",
    "    ]\n",
    "\n",
    "    entries = []\n",
    "\n",
    "    for model in models:\n",
    "        model_name = type(model).__name__\n",
    "        print (model_name)\n",
    "\n",
    "        scores = classification_model(model, df, predictors, outcome_var,  n_splits)\n",
    "\n",
    "        for fold_idx, accuracy in enumerate(scores):\n",
    "            entries.append((model_name, fold_idx, accuracy))\n",
    "\n",
    "\n",
    "    # plot\n",
    "    cv_df = pd.DataFrame(entries, columns=['model_name', 'fold_idx', 'accuracy'])\n",
    "    cv_df.groupby('model_name').accuracy.mean().sort_values()\n",
    "\n",
    "    import seaborn as sns\n",
    "\n",
    "    sns.boxplot(x='model_name', y='accuracy', data=cv_df)\n",
    "    sns.stripplot(x='model_name', y='accuracy', data=cv_df, \n",
    "                  size=8, jitter=True, edgecolor=\"gray\", linewidth=2)\n",
    "    plt.show()"
   ]
  },
  {
   "cell_type": "markdown",
   "metadata": {},
   "source": [
    "# model using features selected from above"
   ]
  },
  {
   "cell_type": "code",
   "execution_count": 38,
   "metadata": {},
   "outputs": [
    {
     "name": "stdout",
     "output_type": "stream",
     "text": [
      "RandomForestClassifier\n",
      "  Accuracy: 0.767067 (0.011766)\n",
      "MultinomialNB\n",
      "  Accuracy: 0.687378 (0.040143)\n",
      "LogisticRegression\n",
      "  Accuracy: 0.809543 (0.035489)\n"
     ]
    },
    {
     "data": {
      "image/png": "[encoded data removed]",
      "text/plain": [
       "<Figure size 432x288 with 1 Axes>"
      ]
     },
     "metadata": {
      "needs_background": "light"
     },
     "output_type": "display_data"
    }
   ],
   "source": [
    "predictors = ['Education', 'Credit_History', 'TotalIncome_log',\n",
    "              'LoanAmount_log', \n",
    "             ]\n",
    "test_models(predictors, 5)"
   ]
  },
  {
   "cell_type": "markdown",
   "metadata": {},
   "source": [
    "LogisticRegression has the highest mean accuracy, followed by RandomForest, then NB\n",
    "\n",
    "# Model using features selected from Random Forest"
   ]
  },
  {
   "cell_type": "code",
   "execution_count": 39,
   "metadata": {},
   "outputs": [
    {
     "name": "stdout",
     "output_type": "stream",
     "text": [
      "RandomForestClassifier\n",
      "  Accuracy: 0.758936 (0.015410)\n",
      "MultinomialNB\n",
      "  Accuracy: 0.687378 (0.040143)\n",
      "LogisticRegression\n",
      "  Accuracy: 0.809543 (0.035489)\n"
     ]
    },
    {
     "data": {
      "image/png": "[encoded data removed]",
      "text/plain": [
       "<Figure size 432x288 with 1 Axes>"
      ]
     },
     "metadata": {
      "needs_background": "light"
     },
     "output_type": "display_data"
    }
   ],
   "source": [
    "predictors = ['Credit_History', 'LoanAmount_log', 'TotalIncome_log']\n",
    "\n",
    "test_models(predictors, 5)"
   ]
  },
  {
   "cell_type": "markdown",
   "metadata": {},
   "source": [
    "results comparable though RadomForest is slightly worse with this model\n",
    "\n",
    "\n",
    "# Model using all features"
   ]
  },
  {
   "cell_type": "code",
   "execution_count": 40,
   "metadata": {
    "scrolled": true
   },
   "outputs": [
    {
     "name": "stdout",
     "output_type": "stream",
     "text": [
      "RandomForestClassifier\n",
      "  Accuracy: 0.781834 (0.024880)\n",
      "MultinomialNB\n",
      "  Accuracy: 0.689004 (0.039429)\n",
      "LogisticRegression\n",
      "  Accuracy: 0.809543 (0.035489)\n"
     ]
    },
    {
     "data": {
      "image/png": "[encoded data removed]",
      "text/plain": [
       "<Figure size 432x288 with 1 Axes>"
      ]
     },
     "metadata": {
      "needs_background": "light"
     },
     "output_type": "display_data"
    }
   ],
   "source": [
    "predictors = ['Gender', 'Married', 'Dependents', 'Education', 'Self_Employed',\n",
    "       'Loan_Amount_Term', 'Credit_History', 'Property_Area', 'TotalIncome_log', 'LoanAmount_log']\n",
    "\n",
    "test_models(predictors, 5)"
   ]
  },
  {
   "cell_type": "markdown",
   "metadata": {},
   "source": [
    "results comparable but RadomForest performance is alittle better\n",
    "\n",
    "# Create a final model and make predictions\n",
    "\n",
    "From the above, LogisticRegression performs the best"
   ]
  },
  {
   "cell_type": "code",
   "execution_count": 41,
   "metadata": {},
   "outputs": [
    {
     "name": "stdout",
     "output_type": "stream",
     "text": [
      "Accuracy : 82.703%\n"
     ]
    }
   ],
   "source": [
    "import sklearn.metrics as metrics\n",
    "\n",
    "predictors = ['Education', 'Credit_History', \n",
    "              'LoanAmount_log', 'TotalIncome_log'\n",
    "             ]\n",
    "\n",
    "# Split the data into 30% test and 70% training\n",
    "X_train, X_test, y_train, y_test = train_test_split(df[predictors], \n",
    "                                                    df['Loan_Status'], \n",
    "                                                    test_size=0.3, random_state=0)\n",
    "\n",
    "lr =  LogisticRegression(max_iter=500)\n",
    "lr.fit(X_train, y_train)\n",
    "\n",
    "#Make predictions on training set:\n",
    "predictions = lr.predict(X_test)\n",
    "  \n",
    "#Print accuracy\n",
    "accuracy = metrics.accuracy_score(predictions, y_test)\n",
    "print (\"Accuracy : %s\" % \"{0:.3%}\".format(accuracy))"
   ]
  },
  {
   "cell_type": "code",
   "execution_count": 42,
   "metadata": {},
   "outputs": [
    {
     "data": {
      "text/html": [
       "<div>\n",
       "<style scoped>\n",
       "    .dataframe tbody tr th:only-of-type {\n",
       "        vertical-align: middle;\n",
       "    }\n",
       "\n",
       "    .dataframe tbody tr th {\n",
       "        vertical-align: top;\n",
       "    }\n",
       "\n",
       "    .dataframe thead th {\n",
       "        text-align: right;\n",
       "    }\n",
       "</style>\n",
       "<table border=\"1\" class=\"dataframe\">\n",
       "  <thead>\n",
       "    <tr style=\"text-align: right;\">\n",
       "      <th></th>\n",
       "      <th>Education</th>\n",
       "      <th>Credit_History</th>\n",
       "      <th>LoanAmount_log</th>\n",
       "      <th>TotalIncome_log</th>\n",
       "      <th>Loan_Status</th>\n",
       "    </tr>\n",
       "  </thead>\n",
       "  <tbody>\n",
       "    <tr>\n",
       "      <th>454</th>\n",
       "      <td>0</td>\n",
       "      <td>1</td>\n",
       "      <td>4.4308167988</td>\n",
       "      <td>8.8657351521</td>\n",
       "      <td>1</td>\n",
       "    </tr>\n",
       "    <tr>\n",
       "      <th>52</th>\n",
       "      <td>0</td>\n",
       "      <td>1</td>\n",
       "      <td>4.7184988713</td>\n",
       "      <td>8.3499572720</td>\n",
       "      <td>0</td>\n",
       "    </tr>\n",
       "    <tr>\n",
       "      <th>536</th>\n",
       "      <td>0</td>\n",
       "      <td>1</td>\n",
       "      <td>5.7807435158</td>\n",
       "      <td>9.2142327867</td>\n",
       "      <td>1</td>\n",
       "    </tr>\n",
       "    <tr>\n",
       "      <th>469</th>\n",
       "      <td>0</td>\n",
       "      <td>1</td>\n",
       "      <td>4.7004803658</td>\n",
       "      <td>8.8223221775</td>\n",
       "      <td>0</td>\n",
       "    </tr>\n",
       "    <tr>\n",
       "      <th>55</th>\n",
       "      <td>0</td>\n",
       "      <td>1</td>\n",
       "      <td>4.5747109785</td>\n",
       "      <td>8.2623009418</td>\n",
       "      <td>1</td>\n",
       "    </tr>\n",
       "    <tr>\n",
       "      <th>...</th>\n",
       "      <td>...</td>\n",
       "      <td>...</td>\n",
       "      <td>...</td>\n",
       "      <td>...</td>\n",
       "      <td>...</td>\n",
       "    </tr>\n",
       "    <tr>\n",
       "      <th>242</th>\n",
       "      <td>0</td>\n",
       "      <td>1</td>\n",
       "      <td>5.0434251169</td>\n",
       "      <td>9.0671626023</td>\n",
       "      <td>1</td>\n",
       "    </tr>\n",
       "    <tr>\n",
       "      <th>515</th>\n",
       "      <td>0</td>\n",
       "      <td>1</td>\n",
       "      <td>5.0106352941</td>\n",
       "      <td>8.8384067471</td>\n",
       "      <td>1</td>\n",
       "    </tr>\n",
       "    <tr>\n",
       "      <th>582</th>\n",
       "      <td>0</td>\n",
       "      <td>1</td>\n",
       "      <td>3.5835189385</td>\n",
       "      <td>8.0602242404</td>\n",
       "      <td>1</td>\n",
       "    </tr>\n",
       "    <tr>\n",
       "      <th>225</th>\n",
       "      <td>0</td>\n",
       "      <td>1</td>\n",
       "      <td>5.1357984371</td>\n",
       "      <td>8.0864102753</td>\n",
       "      <td>0</td>\n",
       "    </tr>\n",
       "    <tr>\n",
       "      <th>134</th>\n",
       "      <td>0</td>\n",
       "      <td>1</td>\n",
       "      <td>4.6249728133</td>\n",
       "      <td>8.4959695550</td>\n",
       "      <td>1</td>\n",
       "    </tr>\n",
       "  </tbody>\n",
       "</table>\n",
       "<p>185 rows × 5 columns</p>\n",
       "</div>"
      ],
      "text/plain": [
       "     Education  Credit_History  LoanAmount_log  TotalIncome_log  Loan_Status\n",
       "454          0               1    4.4308167988     8.8657351521            1\n",
       "52           0               1    4.7184988713     8.3499572720            0\n",
       "536          0               1    5.7807435158     9.2142327867            1\n",
       "469          0               1    4.7004803658     8.8223221775            0\n",
       "55           0               1    4.5747109785     8.2623009418            1\n",
       "..         ...             ...             ...              ...          ...\n",
       "242          0               1    5.0434251169     9.0671626023            1\n",
       "515          0               1    5.0106352941     8.8384067471            1\n",
       "582          0               1    3.5835189385     8.0602242404            1\n",
       "225          0               1    5.1357984371     8.0864102753            0\n",
       "134          0               1    4.6249728133     8.4959695550            1\n",
       "\n",
       "[185 rows x 5 columns]"
      ]
     },
     "execution_count": 42,
     "metadata": {},
     "output_type": "execute_result"
    }
   ],
   "source": [
    "test = X_test\n",
    "test['Loan_Status'] = y_test\n",
    "test"
   ]
  },
  {
   "cell_type": "markdown",
   "metadata": {},
   "source": [
    "# Predict custom value\n",
    "\n",
    "with selected features: 'Education', 'Credit_History', 'LoanAmount_log', 'TotalIncome_log\n",
    "\n",
    "First view approved and not approved records"
   ]
  },
  {
   "cell_type": "code",
   "execution_count": 43,
   "metadata": {},
   "outputs": [
    {
     "data": {
      "text/html": [
       "<div>\n",
       "<style scoped>\n",
       "    .dataframe tbody tr th:only-of-type {\n",
       "        vertical-align: middle;\n",
       "    }\n",
       "\n",
       "    .dataframe tbody tr th {\n",
       "        vertical-align: top;\n",
       "    }\n",
       "\n",
       "    .dataframe thead th {\n",
       "        text-align: right;\n",
       "    }\n",
       "</style>\n",
       "<table border=\"1\" class=\"dataframe\">\n",
       "  <thead>\n",
       "    <tr style=\"text-align: right;\">\n",
       "      <th></th>\n",
       "      <th>Education</th>\n",
       "      <th>TotalIncome</th>\n",
       "      <th>LoanAmount</th>\n",
       "      <th>Loan_Amount_Term</th>\n",
       "      <th>Credit_History</th>\n",
       "      <th>Loan_Status</th>\n",
       "    </tr>\n",
       "  </thead>\n",
       "  <tbody>\n",
       "    <tr>\n",
       "      <th>1</th>\n",
       "      <td>0</td>\n",
       "      <td>6091.0000000000</td>\n",
       "      <td>128.0000000000</td>\n",
       "      <td>6</td>\n",
       "      <td>1</td>\n",
       "      <td>0</td>\n",
       "    </tr>\n",
       "    <tr>\n",
       "      <th>7</th>\n",
       "      <td>0</td>\n",
       "      <td>5540.0000000000</td>\n",
       "      <td>158.0000000000</td>\n",
       "      <td>6</td>\n",
       "      <td>0</td>\n",
       "      <td>0</td>\n",
       "    </tr>\n",
       "    <tr>\n",
       "      <th>9</th>\n",
       "      <td>0</td>\n",
       "      <td>23809.0000000000</td>\n",
       "      <td>349.0000000000</td>\n",
       "      <td>6</td>\n",
       "      <td>1</td>\n",
       "      <td>0</td>\n",
       "    </tr>\n",
       "    <tr>\n",
       "      <th>13</th>\n",
       "      <td>0</td>\n",
       "      <td>4693.0000000000</td>\n",
       "      <td>114.0000000000</td>\n",
       "      <td>6</td>\n",
       "      <td>1</td>\n",
       "      <td>0</td>\n",
       "    </tr>\n",
       "    <tr>\n",
       "      <th>17</th>\n",
       "      <td>0</td>\n",
       "      <td>3510.0000000000</td>\n",
       "      <td>76.0000000000</td>\n",
       "      <td>6</td>\n",
       "      <td>0</td>\n",
       "      <td>0</td>\n",
       "    </tr>\n",
       "    <tr>\n",
       "      <th>...</th>\n",
       "      <td>...</td>\n",
       "      <td>...</td>\n",
       "      <td>...</td>\n",
       "      <td>...</td>\n",
       "      <td>...</td>\n",
       "      <td>...</td>\n",
       "    </tr>\n",
       "    <tr>\n",
       "      <th>596</th>\n",
       "      <td>1</td>\n",
       "      <td>7383.0000000000</td>\n",
       "      <td>187.0000000000</td>\n",
       "      <td>6</td>\n",
       "      <td>1</td>\n",
       "      <td>0</td>\n",
       "    </tr>\n",
       "    <tr>\n",
       "      <th>597</th>\n",
       "      <td>0</td>\n",
       "      <td>2987.0000000000</td>\n",
       "      <td>88.0000000000</td>\n",
       "      <td>6</td>\n",
       "      <td>0</td>\n",
       "      <td>0</td>\n",
       "    </tr>\n",
       "    <tr>\n",
       "      <th>600</th>\n",
       "      <td>0</td>\n",
       "      <td>42083.0000000000</td>\n",
       "      <td>350.0000000000</td>\n",
       "      <td>2</td>\n",
       "      <td>1</td>\n",
       "      <td>0</td>\n",
       "    </tr>\n",
       "    <tr>\n",
       "      <th>605</th>\n",
       "      <td>1</td>\n",
       "      <td>6200.0000000000</td>\n",
       "      <td>113.0000000000</td>\n",
       "      <td>2</td>\n",
       "      <td>1</td>\n",
       "      <td>0</td>\n",
       "    </tr>\n",
       "    <tr>\n",
       "      <th>613</th>\n",
       "      <td>0</td>\n",
       "      <td>4583.0000000000</td>\n",
       "      <td>133.0000000000</td>\n",
       "      <td>6</td>\n",
       "      <td>0</td>\n",
       "      <td>0</td>\n",
       "    </tr>\n",
       "  </tbody>\n",
       "</table>\n",
       "<p>192 rows × 6 columns</p>\n",
       "</div>"
      ],
      "text/plain": [
       "     Education      TotalIncome     LoanAmount  Loan_Amount_Term  \\\n",
       "1            0  6091.0000000000 128.0000000000                 6   \n",
       "7            0  5540.0000000000 158.0000000000                 6   \n",
       "9            0 23809.0000000000 349.0000000000                 6   \n",
       "13           0  4693.0000000000 114.0000000000                 6   \n",
       "17           0  3510.0000000000  76.0000000000                 6   \n",
       "..         ...              ...            ...               ...   \n",
       "596          1  7383.0000000000 187.0000000000                 6   \n",
       "597          0  2987.0000000000  88.0000000000                 6   \n",
       "600          0 42083.0000000000 350.0000000000                 2   \n",
       "605          1  6200.0000000000 113.0000000000                 2   \n",
       "613          0  4583.0000000000 133.0000000000                 6   \n",
       "\n",
       "     Credit_History  Loan_Status  \n",
       "1                 1            0  \n",
       "7                 0            0  \n",
       "9                 1            0  \n",
       "13                1            0  \n",
       "17                0            0  \n",
       "..              ...          ...  \n",
       "596               1            0  \n",
       "597               0            0  \n",
       "600               1            0  \n",
       "605               1            0  \n",
       "613               0            0  \n",
       "\n",
       "[192 rows x 6 columns]"
      ]
     },
     "execution_count": 43,
     "metadata": {},
     "output_type": "execute_result"
    }
   ],
   "source": [
    "columns = ['Education', 'TotalIncome','LoanAmount', 'Loan_Amount_Term', \n",
    "          'Credit_History', 'Loan_Status']\n",
    "notapproved = df[df['Loan_Status']==0]\n",
    "notapproved = notapproved[columns]\n",
    "notapproved"
   ]
  },
  {
   "cell_type": "code",
   "execution_count": 44,
   "metadata": {},
   "outputs": [
    {
     "data": {
      "text/html": [
       "<div>\n",
       "<style scoped>\n",
       "    .dataframe tbody tr th:only-of-type {\n",
       "        vertical-align: middle;\n",
       "    }\n",
       "\n",
       "    .dataframe tbody tr th {\n",
       "        vertical-align: top;\n",
       "    }\n",
       "\n",
       "    .dataframe thead th {\n",
       "        text-align: right;\n",
       "    }\n",
       "</style>\n",
       "<table border=\"1\" class=\"dataframe\">\n",
       "  <thead>\n",
       "    <tr style=\"text-align: right;\">\n",
       "      <th></th>\n",
       "      <th>Education</th>\n",
       "      <th>TotalIncome</th>\n",
       "      <th>LoanAmount</th>\n",
       "      <th>Loan_Amount_Term</th>\n",
       "      <th>Credit_History</th>\n",
       "      <th>Loan_Status</th>\n",
       "    </tr>\n",
       "  </thead>\n",
       "  <tbody>\n",
       "    <tr>\n",
       "      <th>0</th>\n",
       "      <td>0</td>\n",
       "      <td>5849.0000000000</td>\n",
       "      <td>130.0000000000</td>\n",
       "      <td>6</td>\n",
       "      <td>1</td>\n",
       "      <td>1</td>\n",
       "    </tr>\n",
       "    <tr>\n",
       "      <th>2</th>\n",
       "      <td>0</td>\n",
       "      <td>3000.0000000000</td>\n",
       "      <td>66.0000000000</td>\n",
       "      <td>6</td>\n",
       "      <td>1</td>\n",
       "      <td>1</td>\n",
       "    </tr>\n",
       "    <tr>\n",
       "      <th>3</th>\n",
       "      <td>1</td>\n",
       "      <td>4941.0000000000</td>\n",
       "      <td>120.0000000000</td>\n",
       "      <td>6</td>\n",
       "      <td>1</td>\n",
       "      <td>1</td>\n",
       "    </tr>\n",
       "    <tr>\n",
       "      <th>4</th>\n",
       "      <td>0</td>\n",
       "      <td>6000.0000000000</td>\n",
       "      <td>141.0000000000</td>\n",
       "      <td>6</td>\n",
       "      <td>1</td>\n",
       "      <td>1</td>\n",
       "    </tr>\n",
       "    <tr>\n",
       "      <th>5</th>\n",
       "      <td>0</td>\n",
       "      <td>9613.0000000000</td>\n",
       "      <td>267.0000000000</td>\n",
       "      <td>6</td>\n",
       "      <td>1</td>\n",
       "      <td>1</td>\n",
       "    </tr>\n",
       "    <tr>\n",
       "      <th>...</th>\n",
       "      <td>...</td>\n",
       "      <td>...</td>\n",
       "      <td>...</td>\n",
       "      <td>...</td>\n",
       "      <td>...</td>\n",
       "      <td>...</td>\n",
       "    </tr>\n",
       "    <tr>\n",
       "      <th>608</th>\n",
       "      <td>0</td>\n",
       "      <td>5182.0000000000</td>\n",
       "      <td>108.0000000000</td>\n",
       "      <td>6</td>\n",
       "      <td>1</td>\n",
       "      <td>1</td>\n",
       "    </tr>\n",
       "    <tr>\n",
       "      <th>609</th>\n",
       "      <td>0</td>\n",
       "      <td>2900.0000000000</td>\n",
       "      <td>71.0000000000</td>\n",
       "      <td>6</td>\n",
       "      <td>1</td>\n",
       "      <td>1</td>\n",
       "    </tr>\n",
       "    <tr>\n",
       "      <th>610</th>\n",
       "      <td>0</td>\n",
       "      <td>4106.0000000000</td>\n",
       "      <td>40.0000000000</td>\n",
       "      <td>2</td>\n",
       "      <td>1</td>\n",
       "      <td>1</td>\n",
       "    </tr>\n",
       "    <tr>\n",
       "      <th>611</th>\n",
       "      <td>0</td>\n",
       "      <td>8312.0000000000</td>\n",
       "      <td>253.0000000000</td>\n",
       "      <td>6</td>\n",
       "      <td>1</td>\n",
       "      <td>1</td>\n",
       "    </tr>\n",
       "    <tr>\n",
       "      <th>612</th>\n",
       "      <td>0</td>\n",
       "      <td>7583.0000000000</td>\n",
       "      <td>187.0000000000</td>\n",
       "      <td>6</td>\n",
       "      <td>1</td>\n",
       "      <td>1</td>\n",
       "    </tr>\n",
       "  </tbody>\n",
       "</table>\n",
       "<p>422 rows × 6 columns</p>\n",
       "</div>"
      ],
      "text/plain": [
       "     Education     TotalIncome     LoanAmount  Loan_Amount_Term  \\\n",
       "0            0 5849.0000000000 130.0000000000                 6   \n",
       "2            0 3000.0000000000  66.0000000000                 6   \n",
       "3            1 4941.0000000000 120.0000000000                 6   \n",
       "4            0 6000.0000000000 141.0000000000                 6   \n",
       "5            0 9613.0000000000 267.0000000000                 6   \n",
       "..         ...             ...            ...               ...   \n",
       "608          0 5182.0000000000 108.0000000000                 6   \n",
       "609          0 2900.0000000000  71.0000000000                 6   \n",
       "610          0 4106.0000000000  40.0000000000                 2   \n",
       "611          0 8312.0000000000 253.0000000000                 6   \n",
       "612          0 7583.0000000000 187.0000000000                 6   \n",
       "\n",
       "     Credit_History  Loan_Status  \n",
       "0                 1            1  \n",
       "2                 1            1  \n",
       "3                 1            1  \n",
       "4                 1            1  \n",
       "5                 1            1  \n",
       "..              ...          ...  \n",
       "608               1            1  \n",
       "609               1            1  \n",
       "610               1            1  \n",
       "611               1            1  \n",
       "612               1            1  \n",
       "\n",
       "[422 rows x 6 columns]"
      ]
     },
     "execution_count": 44,
     "metadata": {},
     "output_type": "execute_result"
    }
   ],
   "source": [
    "approved = df[df['Loan_Status']==1]\n",
    "approved = approved[columns]\n",
    "approved"
   ]
  },
  {
   "cell_type": "markdown",
   "metadata": {},
   "source": [
    "# LoanAmount 350, TotalIncome 100"
   ]
  },
  {
   "cell_type": "code",
   "execution_count": 45,
   "metadata": {},
   "outputs": [
    {
     "name": "stdout",
     "output_type": "stream",
     "text": [
      "[1]\n"
     ]
    }
   ],
   "source": [
    "Xnew = [[0, 1, 5.8579, 4.60517]]\n",
    "\n",
    "pred = lr.predict(Xnew)\n",
    "print (pred)"
   ]
  },
  {
   "cell_type": "markdown",
   "metadata": {},
   "source": [
    "Prediction is approved: (Graduate and with Credit History)"
   ]
  },
  {
   "cell_type": "code",
   "execution_count": 46,
   "metadata": {},
   "outputs": [
    {
     "name": "stdout",
     "output_type": "stream",
     "text": [
      "[0]\n"
     ]
    }
   ],
   "source": [
    "Xnew = [[0, 0, 5.8579, 4.60517]]\n",
    "\n",
    "pred = lr.predict(Xnew)\n",
    "print (pred)"
   ]
  },
  {
   "cell_type": "markdown",
   "metadata": {},
   "source": [
    "Prediction is not approved (All same except Credit History is No)"
   ]
  },
  {
   "cell_type": "code",
   "execution_count": null,
   "metadata": {},
   "outputs": [],
   "source": []
  }
 ],
 "metadata": {
  "kernelspec": {
   "display_name": "Python 3",
   "language": "python",
   "name": "python3"
  },
  "language_info": {
   "codemirror_mode": {
    "name": "ipython",
    "version": 3
   },
   "file_extension": ".py",
   "mimetype": "text/x-python",
   "name": "python",
   "nbconvert_exporter": "python",
   "pygments_lexer": "ipython3",
   "version": "3.7.6"
  }
 },
 "nbformat": 4,
 "nbformat_minor": 4
}
